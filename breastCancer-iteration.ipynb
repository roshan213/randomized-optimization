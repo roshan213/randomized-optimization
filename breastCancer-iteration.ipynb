{
 "cells": [
  {
   "cell_type": "code",
   "execution_count": 28,
   "metadata": {
    "scrolled": true
   },
   "outputs": [
    {
     "name": "stderr",
     "output_type": "stream",
     "text": [
      "C:\\Users\\rosha\\Anaconda2\\envs\\py3\\lib\\site-packages\\sklearn\\preprocessing\\_encoders.py:368: FutureWarning: The handling of integer data will change in version 0.22. Currently, the categories are determined based on the range [0, max(values)], while in the future they will be determined based on the unique values.\n",
      "If you want the future behaviour and silence this warning, you can specify \"categories='auto'\".\n",
      "In case you used a LabelEncoder before this OneHotEncoder to convert the categories to integers, then you can now use the OneHotEncoder directly.\n",
      "  warnings.warn(msg, FutureWarning)\n"
     ]
    }
   ],
   "source": [
    "from sklearn import tree\n",
    "from sklearn.model_selection import train_test_split\n",
    "import numpy as np\n",
    "from sklearn.datasets import load_iris\n",
    "from sklearn.datasets import load_breast_cancer\n",
    "from sklearn.tree import DecisionTreeClassifier, export_graphviz\n",
    "from sklearn.neural_network import MLPClassifier\n",
    "\n",
    "from sklearn.externals.six import StringIO\n",
    "from IPython.display import Image, display\n",
    "import pandas as pd\n",
    "import numpy as np\n",
    "import matplotlib.pyplot as plt\n",
    "from sklearn.pipeline import Pipeline\n",
    "from sklearn.preprocessing import Normalizer,OneHotEncoder, MinMaxScaler, StandardScaler, RobustScaler, QuantileTransformer, LabelEncoder\n",
    "from sklearn.model_selection import train_test_split, StratifiedKFold, GridSearchCV, cross_val_score\n",
    "from sklearn.model_selection import LeaveOneOut\n",
    "from sklearn.pipeline import make_pipeline\n",
    "from sklearn.model_selection import train_test_split\n",
    "import mlrose\n",
    "from sklearn.metrics import accuracy_score\n",
    "bc = load_breast_cancer()\n",
    "data=bc.data\n",
    "target=bc.target\n",
    "\n",
    "# Initialize neural network object and fit object\n",
    "data = load_breast_cancer()\n",
    "X_train, X_test, y_train, y_test = train_test_split(data.data, data.target, \\\n",
    "                                                    test_size = 0.2, random_state = 3)\n",
    "\n",
    "# Normalize feature data\n",
    "scaler = MinMaxScaler()\n",
    "\n",
    "X_train_scaled = scaler.fit_transform(X_train)\n",
    "X_test_scaled = scaler.transform(X_test)\n",
    "\n",
    "# One hot encode target values\n",
    "one_hot = OneHotEncoder()\n",
    "\n",
    "y_train_hot = one_hot.fit_transform(y_train.reshape(-1, 1)).todense()\n",
    "y_test_hot = one_hot.transform(y_test.reshape(-1, 1)).todense()"
   ]
  },
  {
   "cell_type": "code",
   "execution_count": 18,
   "metadata": {},
   "outputs": [
    {
     "data": {
      "image/png": "[encoded data removed]",
      "text/plain": [
       "<Figure size 432x288 with 1 Axes>"
      ]
     },
     "metadata": {
      "needs_background": "light"
     },
     "output_type": "display_data"
    }
   ],
   "source": [
    "NUM_TIMS_TO_RUN = 100\n",
    "MAX_ITTERS = 3000\n",
    "sum_test_accuracy_list=np.array([0,0])\n",
    "sum_train_accuracy_list=np.array([0,0])\n",
    "\n",
    "for j in range(NUM_TIMS_TO_RUN):\n",
    "    test_accuracy_list=[]\n",
    "    train_accuracy_list = []\n",
    "    for i in range(100, MAX_ITTERS,300):\n",
    "        #print(i)\n",
    "        nn_model2 = mlrose.NeuralNetwork(hidden_nodes = [2], activation = 'relu', \\\n",
    "                                         algorithm = 'gradient_descent', max_iters = i, \\\n",
    "                                         bias = True, is_classifier = True, learning_rate = 0.0001, \\\n",
    "                                         early_stopping = True, clip_max = 5, max_attempts = 10)\n",
    "\n",
    "        nn_model2.fit(X_train_scaled, y_train_hot)\n",
    "        # Predict labels for train set and assess accuracy\n",
    "#         y_train_pred = nn_model2.predict(X_train_scaled)\n",
    "#         y_train_accuracy = accuracy_score(y_train_hot, y_train_pred)\n",
    "#         #print(y_train_accuracy)\n",
    "#         train_accuracy_list.append([i, 1-y_train_accuracy])\n",
    "\n",
    "        # Predict labels for test set and assess accuracy\n",
    "        y_test_pred = nn_model2.predict(X_test_scaled)\n",
    "        y_test_accuracy = accuracy_score(y_test_hot, y_test_pred)\n",
    "        test_accuracy_list.append([i, 1-y_test_accuracy])\n",
    "    sum_test_accuracy_list = sum_test_accuracy_list + np.array(test_accuracy_list)\n",
    "#     sum_train_accuracy_list = sum_train_accuracy_list + np.array(train_accuracy_list)\n",
    "\n",
    "avg_test_prediction= sum_test_accuracy_list/NUM_TIMS_TO_RUN\n",
    "# avg_train_prediction =sum_train_accuracy_list/NUM_TIMS_TO_RUN\n",
    "#print(avg_test_prediction, avg_train_prediction)\n",
    "\n",
    "\n",
    "plt.xlabel('Iterrations')\n",
    "plt.ylabel('Error')\n",
    "plt.ylim((0,1))\n",
    "plt.plot(avg_test_prediction[:,0],avg_test_prediction[:,1], label='Test')\n",
    "# plt.plot(avg_train_prediction[:,0],avg_train_prediction[:,1], label='Train')\n",
    "plt.title('Error vs Iterration')\n",
    "plt.legend()\n",
    "plt.show()\n"
   ]
  },
  {
   "cell_type": "code",
   "execution_count": 25,
   "metadata": {},
   "outputs": [
    {
     "data": {
      "image/png": "[encoded data removed]",
      "text/plain": [
       "<Figure size 432x288 with 1 Axes>"
      ]
     },
     "metadata": {
      "needs_background": "light"
     },
     "output_type": "display_data"
    }
   ],
   "source": [
    "NUM_TIMS_TO_RUN = 10\n",
    "MAX_ITTERS = 5000\n",
    "sum_test_accuracy_list=np.array([0,0])\n",
    "sum_train_accuracy_list=np.array([0,0])\n",
    "\n",
    "for j in range(NUM_TIMS_TO_RUN):\n",
    "    test_accuracy_list=[]\n",
    "    train_accuracy_list = []\n",
    "    for i in range(100, MAX_ITTERS,500):\n",
    "        #print(i)\n",
    "        nn_model2 = mlrose.NeuralNetwork(hidden_nodes = [2], activation = 'relu', \\\n",
    "                                         algorithm = 'random_hill_climb', max_iters = i, \\\n",
    "                                         bias = True, is_classifier = True, learning_rate = 0.5, \\\n",
    "                                         early_stopping = True, clip_max = 5, max_attempts = 600)\n",
    "\n",
    "        nn_model2.fit(X_train_scaled, y_train_hot)\n",
    "        # Predict labels for train set and assess accuracy\n",
    "#         y_train_pred = nn_model2.predict(X_train_scaled)\n",
    "#         y_train_accuracy = accuracy_score(y_train_hot, y_train_pred)\n",
    "#         #print(y_train_accuracy)\n",
    "#         train_accuracy_list.append([i, 1-y_train_accuracy])\n",
    "\n",
    "        # Predict labels for test set and assess accuracy\n",
    "        y_test_pred = nn_model2.predict(X_test_scaled)\n",
    "        y_test_accuracy = accuracy_score(y_test_hot, y_test_pred)\n",
    "        test_accuracy_list.append([i, 1-y_test_accuracy])\n",
    "    sum_test_accuracy_list = sum_test_accuracy_list + np.array(test_accuracy_list)\n",
    "#     sum_train_accuracy_list = sum_train_accuracy_list + np.array(train_accuracy_list)\n",
    "\n",
    "avg_test_prediction= sum_test_accuracy_list/NUM_TIMS_TO_RUN\n",
    "# avg_train_prediction =sum_train_accuracy_list/NUM_TIMS_TO_RUN\n",
    "#print(avg_test_prediction, avg_train_prediction)\n",
    "\n",
    "\n",
    "plt.xlabel('Iterrations')\n",
    "plt.ylabel('Error')\n",
    "plt.ylim((0,1))\n",
    "plt.plot(avg_test_prediction[:,0],avg_test_prediction[:,1], label='Test')\n",
    "# plt.plot(avg_train_prediction[:,0],avg_train_prediction[:,1], label='Train')\n",
    "plt.title('Error vs Iterration')\n",
    "plt.legend()\n",
    "plt.show()\n"
   ]
  },
  {
   "cell_type": "code",
   "execution_count": 23,
   "metadata": {},
   "outputs": [
    {
     "data": {
      "image/png": "[encoded data removed]",
      "text/plain": [
       "<Figure size 432x288 with 1 Axes>"
      ]
     },
     "metadata": {
      "needs_background": "light"
     },
     "output_type": "display_data"
    }
   ],
   "source": [
    "NUM_TIMS_TO_RUN = 20\n",
    "MAX_ITTERS = 3000\n",
    "sum_test_accuracy_list=np.array([0,0])\n",
    "sum_train_accuracy_list=np.array([0,0])\n",
    "\n",
    "for j in range(NUM_TIMS_TO_RUN):\n",
    "    test_accuracy_list=[]\n",
    "    train_accuracy_list = []\n",
    "    for i in range(100, MAX_ITTERS,300):\n",
    "        #print(i)\n",
    "        nn_model2 = mlrose.NeuralNetwork(hidden_nodes = [2], activation = 'relu', \\\n",
    "                                         algorithm = 'simulated_annealing', max_iters = i, \\\n",
    "                                         bias = True, is_classifier = True, learning_rate = 0.3, \\\n",
    "                                         early_stopping = True, clip_max = 5, max_attempts = 2000)\n",
    "\n",
    "        nn_model2.fit(X_train_scaled, y_train_hot)\n",
    "        # Predict labels for train set and assess accuracy\n",
    "#         y_train_pred = nn_model2.predict(X_train_scaled)\n",
    "#         y_train_accuracy = accuracy_score(y_train_hot, y_train_pred)\n",
    "#         #print(y_train_accuracy)\n",
    "#         train_accuracy_list.append([i, 1-y_train_accuracy])\n",
    "\n",
    "        # Predict labels for test set and assess accuracy\n",
    "        y_test_pred = nn_model2.predict(X_test_scaled)\n",
    "        y_test_accuracy = accuracy_score(y_test_hot, y_test_pred)\n",
    "        test_accuracy_list.append([i, 1-y_test_accuracy])\n",
    "    sum_test_accuracy_list = sum_test_accuracy_list + np.array(test_accuracy_list)\n",
    "#     sum_train_accuracy_list = sum_train_accuracy_list + np.array(train_accuracy_list)\n",
    "\n",
    "avg_test_prediction= sum_test_accuracy_list/NUM_TIMS_TO_RUN\n",
    "# avg_train_prediction =sum_train_accuracy_list/NUM_TIMS_TO_RUN\n",
    "#print(avg_test_prediction, avg_train_prediction)\n",
    "\n",
    "\n",
    "plt.xlabel('Iterrations')\n",
    "plt.ylabel('Error')\n",
    "plt.ylim((0,1))\n",
    "plt.plot(avg_test_prediction[:,0],avg_test_prediction[:,1], label='Test')\n",
    "# plt.plot(avg_train_prediction[:,0],avg_train_prediction[:,1], label='Train')\n",
    "plt.title('Error vs Iterration')\n",
    "plt.legend()\n",
    "plt.show()\n"
   ]
  },
  {
   "cell_type": "code",
   "execution_count": 44,
   "metadata": {},
   "outputs": [
    {
     "data": {
      "image/png": "[encoded data removed]",
      "text/plain": [
       "<Figure size 432x288 with 1 Axes>"
      ]
     },
     "metadata": {
      "needs_background": "light"
     },
     "output_type": "display_data"
    }
   ],
   "source": [
    "NUM_TIMS_TO_RUN = 20\n",
    "MAX_ITTERS = 1000\n",
    "sum_test_accuracy_list=np.array([0,0])\n",
    "sum_train_accuracy_list=np.array([0,0])\n",
    "\n",
    "for j in range(NUM_TIMS_TO_RUN):\n",
    "    test_accuracy_list=[]\n",
    "    train_accuracy_list = []\n",
    "    for i in range(100, MAX_ITTERS,100):\n",
    "        #print(i)\n",
    "        nn_model2 = mlrose.NeuralNetwork(hidden_nodes = [2], activation = 'relu', \\\n",
    "                                         algorithm = 'genetic_alg', max_iters = 1, \\\n",
    "                                         bias = True, is_classifier = True, learning_rate = .1, \\\n",
    "                                         mutation_prob = .1, pop_size = i,early_stopping = True, clip_max = 5, max_attempts = 10)\n",
    "\n",
    "        nn_model2.fit(X_train_scaled, y_train_hot)\n",
    "        # Predict labels for train set and assess accuracy\n",
    "#         y_train_pred = nn_model2.predict(X_train_scaled)\n",
    "#         y_train_accuracy = accuracy_score(y_train_hot, y_train_pred)\n",
    "#         #print(y_train_accuracy)\n",
    "#         train_accuracy_list.append([i, 1-y_train_accuracy])\n",
    "\n",
    "        # Predict labels for test set and assess accuracy\n",
    "        y_test_pred = nn_model2.predict(X_test_scaled)\n",
    "        y_test_accuracy = accuracy_score(y_test_hot, y_test_pred)\n",
    "        test_accuracy_list.append([i, 1-y_test_accuracy])\n",
    "    sum_test_accuracy_list = sum_test_accuracy_list + np.array(test_accuracy_list)\n",
    "#     sum_train_accuracy_list = sum_train_accuracy_list + np.array(train_accuracy_list)\n",
    "\n",
    "avg_test_prediction= sum_test_accuracy_list/NUM_TIMS_TO_RUN\n",
    "# avg_train_prediction =sum_train_accuracy_list/NUM_TIMS_TO_RUN\n",
    "#print(avg_test_prediction, avg_train_prediction)\n",
    "\n",
    "\n",
    "plt.xlabel('Population Size')\n",
    "plt.ylabel('Error')\n",
    "plt.ylim((0,1))\n",
    "plt.plot(avg_test_prediction[:,0],avg_test_prediction[:,1], label='Test')\n",
    "# plt.plot(avg_train_prediction[:,0],avg_train_prediction[:,1], label='Train')\n",
    "plt.title('Error vs Population Size')\n",
    "plt.legend()\n",
    "plt.show()\n"
   ]
  },
  {
   "cell_type": "code",
   "execution_count": 36,
   "metadata": {},
   "outputs": [
    {
     "name": "stdout",
     "output_type": "stream",
     "text": [
      "[[100.           0.40438596]]\n"
     ]
    }
   ],
   "source": [
    "print(avg_test_prediction)"
   ]
  }
 ],
 "metadata": {
  "anaconda-cloud": {},
  "kernelspec": {
   "display_name": "Python [conda env:py3]",
   "language": "python",
   "name": "conda-env-py3-py"
  },
  "language_info": {
   "codemirror_mode": {
    "name": "ipython",
    "version": 3
   },
   "file_extension": ".py",
   "mimetype": "text/x-python",
   "name": "python",
   "nbconvert_exporter": "python",
   "pygments_lexer": "ipython3",
   "version": "3.5.6"
  }
 },
 "nbformat": 4,
 "nbformat_minor": 2
}
